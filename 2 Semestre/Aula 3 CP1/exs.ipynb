{
 "cells": [
  {
   "cell_type": "code",
   "execution_count": 21,
   "metadata": {},
   "outputs": [],
   "source": [
    "dados = (\n",
    "    (\"youtube\", 550, 10),\n",
    "    (\"facebook\", 822, 50),\n",
    "    (\"linkedin\", 1226, 5),\n",
    "    (\"instagram\",55000, 2))"
   ]
  },
  {
   "cell_type": "code",
   "execution_count": 3,
   "metadata": {},
   "outputs": [],
   "source": [
    "#1 Qual a soma total de likes?\n",
    "#2 Qual a soma total de dislikes?\n",
    "#3 Qual a média de likes?\n",
    "#4 Qual a média de dislikes?\n",
    "#5 Qual mídia apresenta maior taxa de likes?\n",
    "#6 Qual mídia apresenta maior taxa dislikes?\n",
    "#7 Faca uma alteracao na+ tupla incluindo spotify com 968 likes e 31 dislikes\n",
    "#8 retorne uma nova tupla\n"
   ]
  },
  {
   "cell_type": "code",
   "execution_count": 19,
   "metadata": {},
   "outputs": [
    {
     "name": "stdout",
     "output_type": "stream",
     "text": [
      "192\n",
      "59534\n",
      "64.0\n",
      "19844.666666666668\n"
     ]
    }
   ],
   "source": [
    "soma_likes = 0\n",
    "soma_dislikes = 0\n",
    "\n",
    "for i in dados:\n",
    "    soma_likes += i[1]\n",
    "    soma_dislikes += i[2]\n",
    "    \n",
    "\n",
    "\n",
    "media_likes = soma_likes / len(dados[1])\n",
    "media_dislikes = soma_dislikes / len(dados[2])\n",
    "\n",
    "print(soma_dislikes)\n",
    "print(soma_likes)\n",
    "print(media_dislikes)\n",
    "print(media_likes)"
   ]
  },
  {
   "cell_type": "code",
   "execution_count": 22,
   "metadata": {},
   "outputs": [
    {
     "name": "stdout",
     "output_type": "stream",
     "text": [
      "instagram\n",
      "facebook\n",
      "55000\n",
      "50\n"
     ]
    }
   ],
   "source": [
    "maior_midia_likes = \"\"\n",
    "maior_midia_dislikes = \"\"\n",
    "maiorNumLikes = 0\n",
    "maiorNumDislikes = 0\n",
    "\n",
    "for k in dados:\n",
    "    if k[1] > maiorNumLikes:\n",
    "        maiorNumLikes = k[1]\n",
    "        maior_midia_likes = k[0]\n",
    "    if k[2] > maiorNumDislikes:\n",
    "        maiorNumDislikes = k[2]\n",
    "        maior_midia_dislikes = k[0]\n",
    "\n",
    "print(maior_midia_likes)\n",
    "print(maior_midia_dislikes)\n",
    "print(maiorNumLikes)\n",
    "print(maiorNumDislikes)\n"
   ]
  },
  {
   "cell_type": "code",
   "execution_count": null,
   "metadata": {},
   "outputs": [],
   "source": []
  },
  {
   "cell_type": "code",
   "execution_count": 10,
   "metadata": {},
   "outputs": [],
   "source": [
    "#ex7\n",
    "dados = list(dados)\n",
    "dados.append((\"spotify\", 968, 31))"
   ]
  },
  {
   "cell_type": "code",
   "execution_count": 11,
   "metadata": {},
   "outputs": [
    {
     "data": {
      "text/plain": [
       "(('youtube', 550, 10),\n",
       " ('facebook', 822, 50),\n",
       " ('linkedin', 1226, 5),\n",
       " ('instagram', 55000, 65),\n",
       " ('spotify', 968, 31),\n",
       " ('spotify', 968, 31))"
      ]
     },
     "execution_count": 11,
     "metadata": {},
     "output_type": "execute_result"
    }
   ],
   "source": [
    "#ex8\n",
    "dados = tuple(dados)\n",
    "dados"
   ]
  }
 ],
 "metadata": {
  "kernelspec": {
   "display_name": "Python 3",
   "language": "python",
   "name": "python3"
  },
  "language_info": {
   "codemirror_mode": {
    "name": "ipython",
    "version": 3
   },
   "file_extension": ".py",
   "mimetype": "text/x-python",
   "name": "python",
   "nbconvert_exporter": "python",
   "pygments_lexer": "ipython3",
   "version": "3.12.3"
  }
 },
 "nbformat": 4,
 "nbformat_minor": 2
}
