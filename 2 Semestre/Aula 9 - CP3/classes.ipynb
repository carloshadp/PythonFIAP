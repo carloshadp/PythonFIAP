{
 "cells": [
  {
   "cell_type": "code",
   "execution_count": 12,
   "metadata": {},
   "outputs": [
    {
     "name": "stdout",
     "output_type": "stream",
     "text": [
      "[<__main__.Pessoas object at 0x0000024FDBF57FE0>, <__main__.Pessoas object at 0x0000024FDBF57CE0>]\n",
      "Maria 22\n",
      "Mark 38\n"
     ]
    }
   ],
   "source": [
    "# Problema relacionado a pessoas\n",
    "\n",
    "class Pessoas:\n",
    "    def __init__(self, nome, idade):\n",
    "        self.nome = nome\n",
    "        self.idade = idade\n",
    "    \n",
    "    \n",
    "\n",
    "pessoa1 = Pessoas(\"Maria\", 22)\n",
    "pessoa2 = Pessoas(\"Mark\", 38)\n",
    "\n",
    "listaPessoas = []\n",
    "listaPessoas.append(pessoa1)\n",
    "listaPessoas.append(pessoa2)\n",
    "print(listaPessoas)\n",
    "\n",
    "for i in listaPessoas:\n",
    "    print(i.nome, i.idade)\n"
   ]
  },
  {
   "cell_type": "code",
   "execution_count": 32,
   "metadata": {},
   "outputs": [
    {
     "name": "stdout",
     "output_type": "stream",
     "text": [
      "4\n",
      "8\n"
     ]
    }
   ],
   "source": [
    "class Carro:\n",
    "    \n",
    "\n",
    "    def __init__(self,  marca, modelo):\n",
    "        self.marca = marca\n",
    "        self.modelo = modelo\n",
    "        self.__rodas = self.getRodasFuncao()\n",
    "\n",
    "    @staticmethod\n",
    "    def getRodasFuncao():\n",
    "        return 4\n",
    "\n",
    "    def getRodas(self):\n",
    "        return self.__rodas\n",
    "\n",
    "    def setRodas(self, nRodas):\n",
    "        self.__rodas = nRodas\n",
    "        \n",
    "\n",
    "\n",
    "corolla = Carro(\"Toyota\", \"Corolla\")\n",
    "# corolla.rodas\n",
    "\n",
    "print(corolla.getRodas())\n",
    "corolla.setRodas(8)\n",
    "print(corolla.getRodas())"
   ]
  }
 ],
 "metadata": {
  "kernelspec": {
   "display_name": "Python 3",
   "language": "python",
   "name": "python3"
  },
  "language_info": {
   "codemirror_mode": {
    "name": "ipython",
    "version": 3
   },
   "file_extension": ".py",
   "mimetype": "text/x-python",
   "name": "python",
   "nbconvert_exporter": "python",
   "pygments_lexer": "ipython3",
   "version": "3.12.3"
  }
 },
 "nbformat": 4,
 "nbformat_minor": 2
}
